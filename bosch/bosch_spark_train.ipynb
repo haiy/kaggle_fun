{
 "cells": [
  {
   "cell_type": "code",
   "execution_count": 1,
   "metadata": {
    "collapsed": true
   },
   "outputs": [],
   "source": [
    "from pyspark.ml.feature import VectorAssembler"
   ]
  },
  {
   "cell_type": "code",
   "execution_count": 9,
   "metadata": {
    "collapsed": true
   },
   "outputs": [],
   "source": [
    "ctx = SparkSession.builder \\\n",
    "    .master(\"spark://h:7077\") \\\n",
    "    .appName(\"bosch spark\") \\\n",
    "    .getOrCreate()\n",
    "file_dir = \"/home/h/kaggle_fun/bosch/raw_data/\""
   ]
  },
  {
   "cell_type": "markdown",
   "metadata": {
    "collapsed": true
   },
   "source": [
    "- 1. change dataframe to vector\n",
    "- 2. missing values count\n",
    "- 3. fill missing values\n",
    "- 4. plot feature point distribution\n",
    "- 5. normalize the feature\n",
    "- 6. adjust positive negative ratio\n",
    "- 7. train model\n",
    "- 8. evaluate model matric"
   ]
  },
  {
   "cell_type": "code",
   "execution_count": 3,
   "metadata": {
    "collapsed": true
   },
   "outputs": [],
   "source": [
    "def load_csv_df(file_name):\n",
    "    return ctx.read.csv(file_dir + file_name, header=True, inferSchema=True)\n",
    "\n",
    "def check_p_n_cnt(input_df, col_name, pos):\n",
    "    tmp_table_name = \"check_p_n_input_df\"\n",
    "    input_df.registerTempTable(tmp_table_name)\n",
    "    total = ctx.sql(\"select count(*) as tcnt from %s\" % tmp_table_name)\n",
    "    pos = ctx.sql(\"select count(*) as pcnt from %s where %s = %s\" %(tmp_table_name, col_name, pos))\n",
    "    print \"positive/total : %s/%s\" % (pos.collect()[0][\"pcnt\"], total.collect()[0][\"tcnt\"])\n",
    "\n",
    "def adjust_p_n_ratio(input_df, cate_col_name, scale, raw_ratio):\n",
    "    tmp_table_name = \"adjust_p_n_input_df\"\n",
    "    input_df.registerTempTable(tmp_table_name)\n",
    "    adjusted_df = ctx.sql(\"\"\"select * from %s where %s = 1 or (%s = 0 and rand() < %s*%s)\"\"\"\n",
    "                          % (tmp_table_name, cate_col_name, cate_col_name, scale, raw_ratio))\n",
    "    return adjusted_df\n",
    "\n",
    "def df_to_vec(input_df, ignore_list=[]):\n",
    "    assembler = VectorAssembler(\n",
    "        inputCols=[x for x in input_df.columns if x not in ignore_list],\n",
    "        outputCol='features')\n",
    "    return assembler.transform(input_df)\n",
    "\n",
    "def get_corr_matrix(vec, method=\"pearson\"):\n",
    "    return vec.stat.corr(vec)"
   ]
  },
  {
   "cell_type": "code",
   "execution_count": 4,
   "metadata": {
    "collapsed": true
   },
   "outputs": [],
   "source": [
    "train_numer_df = load_csv_df(\"train_numeric.csv\")\n",
    "test_numer_df = load_csv_df(\"test_numeric.csv\")"
   ]
  },
  {
   "cell_type": "code",
   "execution_count": 7,
   "metadata": {
    "collapsed": false
   },
   "outputs": [
    {
     "name": "stdout",
     "output_type": "stream",
     "text": [
      "pos 6879\n",
      "neg 8304\n"
     ]
    }
   ],
   "source": [
    "#check_p_n_cnt(train_numer_df, \"Response\", \"1\") #6879/1183747\n",
    "adjusted_train_num = adjust_p_n_ratio(train_numer_df, \"Response\", 1.2, float(6879)/1183747)\n",
    "print \"pos\", adjusted_train_num.filter(adjusted_train_num.Response == 1).count()\n",
    "print \"neg\", adjusted_train_num.filter(adjusted_train_num.Response == 0).count()"
   ]
  },
  {
   "cell_type": "code",
   "execution_count": 18,
   "metadata": {
    "collapsed": false
   },
   "outputs": [],
   "source": [
    "#train_num_vec = df_to_vec(train_numer_df, [\"Id\"])\n",
    "#train_num_vec.corr(method=\"pearson\")\n",
    "ignore_list = []\n",
    "assembler = VectorAssembler(\n",
    "        inputCols=[x for x in train_numer_df.columns if x not in ignore_list],\n",
    "        outputCol='features')\n",
    "#print type(train_num_vec)\n",
    "train_numer_vec = assembler.transform(train_numer_df)"
   ]
  },
  {
   "cell_type": "code",
   "execution_count": null,
   "metadata": {
    "collapsed": false
   },
   "outputs": [],
   "source": [
    "from pyspark.ml.classification import LogisticRegression\n",
    "lr = LogisticRegression(maxIter=10, regParam=0.3, elasticNetParam=0.8)\n",
    "labelIndexer = StringIndexer(inputCol=\"Response\", outputCol=\"label\").fit(train_numer_df)\n",
    "#featureIndexer =\\\n",
    "#    VectorIndexer(inputCol=\"features\", outputCol=\"indexedFeatures\", maxCategories=4).fit(data)\n",
    "DecisionTreeClassifier dt = new DecisionTreeClassifier().setLabelCol(\"labelIndexed\").setFeaturesCol(\"features\");\n",
    "Pipeline pipeline = new Pipeline().setStages(new PipelineStage[] {assembler, indexer, dt});\n",
    "# Train model\n",
    "PipelineModel model = pipeline.fit(trainingData);\n",
    "\n",
    "# Make predictions\n",
    "DataFrame predictions = model.transform(testData)\n",
    "lrModel = lr.fit(train_num_vec)"
   ]
  },
  {
   "cell_type": "code",
   "execution_count": null,
   "metadata": {
    "collapsed": false
   },
   "outputs": [],
   "source": [
    "corr_mat = get_corr_matrix(train_numer_df)"
   ]
  },
  {
   "cell_type": "code",
   "execution_count": null,
   "metadata": {
    "collapsed": false
   },
   "outputs": [],
   "source": [
    "from pyspark.mllib.stat import Statistics\n",
    "import numpy as np\n",
    "from pyspark.mllib.linalg import Vectors\n",
    "train_num_vec = train_numer_df.rdd.map(lambda data: Vectors.dense([float(c) for c in data]))\n",
    "summary = Statistics.colStats(train_num_vec)\n",
    "\n",
    "#Statistics.corr(train_numer_df)"
   ]
  },
  {
   "cell_type": "code",
   "execution_count": null,
   "metadata": {
    "collapsed": false
   },
   "outputs": [],
   "source": [
    "train_numer_df.head"
   ]
  },
  {
   "cell_type": "code",
   "execution_count": null,
   "metadata": {
    "collapsed": true
   },
   "outputs": [],
   "source": []
  }
 ],
 "metadata": {
  "kernelspec": {
   "display_name": "Python 2",
   "language": "python",
   "name": "python2"
  },
  "language_info": {
   "codemirror_mode": {
    "name": "ipython",
    "version": 2
   },
   "file_extension": ".py",
   "mimetype": "text/x-python",
   "name": "python",
   "nbconvert_exporter": "python",
   "pygments_lexer": "ipython2",
   "version": "2.7.12"
  }
 },
 "nbformat": 4,
 "nbformat_minor": 1
}
