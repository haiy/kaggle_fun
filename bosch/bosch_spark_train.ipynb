{
 "cells": [
  {
   "cell_type": "code",
   "execution_count": 32,
   "metadata": {
    "collapsed": true
   },
   "outputs": [],
   "source": [
    "from pyspark.ml.feature import VectorAssembler\n",
    "from pyspark.sql import Row\n",
    "from pyspark.mllib.regression import LabeledPoint\n",
    "from pyspark.mllib.classification import LogisticRegressionWithLBFGS\n",
    "from pyspark.mllib.tree import GradientBoostedTrees"
   ]
  },
  {
   "cell_type": "code",
   "execution_count": 3,
   "metadata": {
    "collapsed": true
   },
   "outputs": [],
   "source": [
    "ctx = SparkSession.builder \\\n",
    "    .master(\"spark://hs:7077\") \\\n",
    "    .appName(\"bosch spark\") \\\n",
    "    .getOrCreate()\n",
    "file_dir = \"/home/h/kaggle_fun/bosch/raw_data/\""
   ]
  },
  {
   "cell_type": "markdown",
   "metadata": {
    "collapsed": true
   },
   "source": [
    "** - 1 change dataframe to vector ** \n",
    "      [labeled point](http://stackoverflow.com/questions/32556178/create-labeledpoints-from-spark-dataframe-in-python)\n",
    "      [比较全的doc](http://www.techpoweredmath.com/spark-dataframes-mllib-tutorial/)    \n",
    "** - 2 missing values count **   \n",
    "** - 3 fill missing values **   \n",
    "** - 4 plot feature point distribution **  \n",
    "** - 5 normalize the feature **  \n",
    "** - 6 adjust positive negative ratio **  \n",
    "** - 7 train model **    \n",
    "** - 8 evaluate model matric **   \n",
    "** - 9 [feature engineer](http://stackoverflow.com/questions/32982425/encode-and-assemble-multiple-features-in-pyspark) **   \n",
    "** -10 [spark python vs scala](http://stackoverflow.com/questions/32464122/spark-performance-for-scala-vs-python) **  \n",
    "sadly finished already!\n",
    "\n"
   ]
  },
  {
   "cell_type": "code",
   "execution_count": 28,
   "metadata": {
    "collapsed": true
   },
   "outputs": [],
   "source": [
    "def load_csv_df(file_name):\n",
    "    return ctx.read.csv(file_dir + file_name, header=True, inferSchema=True)\n",
    "\n",
    "def check_p_n_cnt(input_df, col_name, pos):\n",
    "    tmp_table_name = \"check_p_n_input_df\"\n",
    "    input_df.registerTempTable(tmp_table_name)\n",
    "    total = ctx.sql(\"select count(*) as tcnt from %s\" % tmp_table_name)\n",
    "    pos = ctx.sql(\"select count(*) as pcnt from %s where %s = %s\" %(tmp_table_name, col_name, pos))\n",
    "    print \"positive/total : %s/%s\" % (pos.collect()[0][\"pcnt\"], total.collect()[0][\"tcnt\"])\n",
    "\n",
    "def adjust_p_n_ratio(input_df, cate_col_name, scale, raw_ratio):\n",
    "    tmp_table_name = \"adjust_p_n_input_df\"\n",
    "    input_df.registerTempTable(tmp_table_name)\n",
    "    adjusted_df = ctx.sql(\"\"\"select * from %s where %s = 1 or (%s = 0 and rand() < %s*%s)\"\"\"\n",
    "                          % (tmp_table_name, cate_col_name, cate_col_name, scale, raw_ratio))\n",
    "    return adjusted_df\n",
    "\n",
    "def df_to_vec(input_df, ignore_list=[]):\n",
    "    assembler = VectorAssembler(\n",
    "        inputCols=[x for x in input_df.columns if x not in ignore_list],\n",
    "        outputCol='features')\n",
    "    return assembler.transform(input_df)\n",
    "\n",
    "def df_to_vec_2(input_df, ignore_list = []):\n",
    "    labeled_points = input_df.rdd.map(lambda line:LabeledPoint(int(line[-1]),line[0:-1]))\n",
    "    return labeled_points\n",
    "\n",
    "def get_corr_matrix(vec, method=\"pearson\"):\n",
    "    return vec.stat.corr(vec)\n",
    "\n",
    "def train_lr_model(input_vec):\n",
    "    lrm = LogisticRegressionWithSGD.train(input_vec, iterations=10)\n",
    "    return lrm\n",
    "\n",
    "def train_gbdt_model(input_vec):\n",
    "    gbdt_model = GradientBoostedTrees.trainClassifier(input_vec,{}, numIterations = 100)\n",
    "    return gbdt_model"
   ]
  },
  {
   "cell_type": "code",
   "execution_count": 5,
   "metadata": {
    "collapsed": true
   },
   "outputs": [],
   "source": [
    "train_numer_df = load_csv_df(\"train_numeric.csv\")\n",
    "test_numer_df = load_csv_df(\"test_numeric.csv\")"
   ]
  },
  {
   "cell_type": "code",
   "execution_count": 22,
   "metadata": {
    "collapsed": false
   },
   "outputs": [
    {
     "name": "stdout",
     "output_type": "stream",
     "text": [
      "pos 6879\n",
      "neg 8200\n"
     ]
    }
   ],
   "source": [
    "#check_p_n_cnt(train_numer_df, \"Response\", \"1\") #6879/1183747\n",
    "adjusted_train_num = adjust_p_n_ratio(train_numer_df, \"Response\", 1.2, float(6879)/1183747)\n",
    "print \"pos\", adjusted_train_num.filter(adjusted_train_num.Response == 1).count()\n",
    "print \"neg\", adjusted_train_num.filter(adjusted_train_num.Response == 0).count()"
   ]
  },
  {
   "cell_type": "code",
   "execution_count": 9,
   "metadata": {
    "collapsed": false
   },
   "outputs": [],
   "source": [
    "#train the model\n",
    "train_numer_vec = df_to_vec_2(adjusted_train_num)\n",
    "gbdt_model = train_gbdt_model(train_numer_vec)"
   ]
  },
  {
   "cell_type": "code",
   "execution_count": 35,
   "metadata": {
    "collapsed": false
   },
   "outputs": [],
   "source": [
    "predict_res = gbdt_model.predict(test_numer_df.rdd)"
   ]
  },
  {
   "cell_type": "code",
   "execution_count": 44,
   "metadata": {
    "collapsed": false
   },
   "outputs": [
    {
     "data": {
      "text/plain": [
       "pyspark.rdd.RDD"
      ]
     },
     "execution_count": 44,
     "metadata": {},
     "output_type": "execute_result"
    }
   ],
   "source": [
    "test_numer_df.rdd"
   ]
  },
  {
   "cell_type": "code",
   "execution_count": 19,
   "metadata": {
    "collapsed": true
   },
   "outputs": [],
   "source": [
    "#train_numer_vec = df_to_vec(train_numer_df, [\"Id\"])\n",
    "#train_numer_vec.corr(method=\"pearson\")\n",
    "ignore_list = [\"Response\"]\n",
    "assembler = VectorAssembler(\n",
    "        inputCols=[x for x in train_numer_df.columns if x not in ignore_list],\n",
    "        outputCol='features')\n",
    "#print type(train_numer_vec)\n",
    "train_numer_vec = assembler.transform(train_numer_df)"
   ]
  },
  {
   "cell_type": "code",
   "execution_count": null,
   "metadata": {
    "collapsed": true
   },
   "outputs": [],
   "source": []
  }
 ],
 "metadata": {
  "kernelspec": {
   "display_name": "Python 2",
   "language": "python",
   "name": "python2"
  },
  "language_info": {
   "codemirror_mode": {
    "name": "ipython",
    "version": 2
   },
   "file_extension": ".py",
   "mimetype": "text/x-python",
   "name": "python",
   "nbconvert_exporter": "python",
   "pygments_lexer": "ipython2",
   "version": "2.7.12"
  }
 },
 "nbformat": 4,
 "nbformat_minor": 1
}
