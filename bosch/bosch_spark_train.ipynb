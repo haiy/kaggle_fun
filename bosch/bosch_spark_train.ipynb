{
 "cells": [
  {
   "cell_type": "code",
   "execution_count": 17,
   "metadata": {
    "collapsed": true
   },
   "outputs": [],
   "source": [
    "from pyspark.ml.feature import VectorAssembler\n",
    "from pyspark.sql import Row\n",
    "from pyspark.mllib.regression import LabeledPoint\n",
    "from pyspark.mllib.classification import LogisticRegressionWithSGD\n",
    "from pyspark.mllib.tree import GradientBoostedTrees"
   ]
  },
  {
   "cell_type": "code",
   "execution_count": 3,
   "metadata": {
    "collapsed": true
   },
   "outputs": [],
   "source": [
    "ctx = SparkSession.builder \\\n",
    "    .master(\"spark://hs:7077\") \\\n",
    "    .appName(\"bosch spark\") \\\n",
    "    .getOrCreate()\n",
    "file_dir = \"/home/h/kaggle_fun/bosch/raw_data/\""
   ]
  },
  {
   "cell_type": "markdown",
   "metadata": {
    "collapsed": true
   },
   "source": [
    "** - 1 change dataframe to vector ** \n",
    "      [labeled point](http://stackoverflow.com/questions/32556178/create-labeledpoints-from-spark-dataframe-in-python)\n",
    "      [比较全的doc](http://www.techpoweredmath.com/spark-dataframes-mllib-tutorial/)    \n",
    "** - 2 missing values count **   \n",
    "** - 3 fill missing values **   \n",
    "** - 4 plot feature point distribution **  \n",
    "** - 5 normalize the feature **  \n",
    "** - 6 adjust positive negative ratio **  \n",
    "** - 7 train model **    \n",
    "** - 8 evaluate model matric **   \n",
    "** - 9 [feature engineer](http://stackoverflow.com/questions/32982425/encode-and-assemble-multiple-features-in-pyspark) **   \n",
    "** -10 [spark python vs scala](http://stackoverflow.com/questions/32464122/spark-performance-for-scala-vs-python) **  \n",
    "sadly finished already!\n",
    "\n"
   ]
  },
  {
   "cell_type": "code",
   "execution_count": 28,
   "metadata": {
    "collapsed": true
   },
   "outputs": [],
   "source": [
    "def load_csv_df(file_name):\n",
    "    return ctx.read.csv(file_dir + file_name, header=True, inferSchema=True)\n",
    "\n",
    "def check_p_n_cnt(input_df, col_name, pos):\n",
    "    tmp_table_name = \"check_p_n_input_df\"\n",
    "    input_df.registerTempTable(tmp_table_name)\n",
    "    total = ctx.sql(\"select count(*) as tcnt from %s\" % tmp_table_name)\n",
    "    pos = ctx.sql(\"select count(*) as pcnt from %s where %s = %s\" %(tmp_table_name, col_name, pos))\n",
    "    print \"positive/total : %s/%s\" % (pos.collect()[0][\"pcnt\"], total.collect()[0][\"tcnt\"])\n",
    "\n",
    "def adjust_p_n_ratio(input_df, cate_col_name, scale, raw_ratio):\n",
    "    tmp_table_name = \"adjust_p_n_input_df\"\n",
    "    input_df.registerTempTable(tmp_table_name)\n",
    "    adjusted_df = ctx.sql(\"\"\"select * from %s where %s = 1 or (%s = 0 and rand() < %s*%s)\"\"\"\n",
    "                          % (tmp_table_name, cate_col_name, cate_col_name, scale, raw_ratio))\n",
    "    return adjusted_df\n",
    "\n",
    "def df_to_vec(input_df, ignore_list=[]):\n",
    "    assembler = VectorAssembler(\n",
    "        inputCols=[x for x in input_df.columns if x not in ignore_list],\n",
    "        outputCol='features')\n",
    "    return assembler.transform(input_df)\n",
    "\n",
    "def df_to_vec_2(input_df, ignore_list = []):\n",
    "    labeled_points = input_df.rdd.map(lambda line:LabeledPoint(int(line[-1]),line[0:-1]))\n",
    "    return labeled_points\n",
    "\n",
    "def get_corr_matrix(vec, method=\"pearson\"):\n",
    "    return vec.stat.corr(vec)\n",
    "\n",
    "def train_lr_model(input_vec):\n",
    "    lrm = LogisticRegressionWithSGD.train(input_vec, iterations=10)\n",
    "    return lrm\n",
    "\n",
    "def train_gbdt_model(input_vec):\n",
    "    gbdt_model = GradientBoostedTrees.trainClassifier(input_vec,{}, numIterations = 100)\n",
    "    return gbdt_model"
   ]
  },
  {
   "cell_type": "code",
   "execution_count": 5,
   "metadata": {
    "collapsed": true
   },
   "outputs": [],
   "source": [
    "train_numer_df = load_csv_df(\"train_numeric.csv\")\n",
    "test_numer_df = load_csv_df(\"test_numeric.csv\")"
   ]
  },
  {
   "cell_type": "code",
   "execution_count": 22,
   "metadata": {
    "collapsed": false
   },
   "outputs": [
    {
     "name": "stdout",
     "output_type": "stream",
     "text": [
      "pos 6879\n",
      "neg 8200\n"
     ]
    }
   ],
   "source": [
    "#check_p_n_cnt(train_numer_df, \"Response\", \"1\") #6879/1183747\n",
    "adjusted_train_num = adjust_p_n_ratio(train_numer_df, \"Response\", 1.2, float(6879)/1183747)\n",
    "print \"pos\", adjusted_train_num.filter(adjusted_train_num.Response == 1).count()\n",
    "print \"neg\", adjusted_train_num.filter(adjusted_train_num.Response == 0).count()"
   ]
  },
  {
   "cell_type": "code",
   "execution_count": null,
   "metadata": {
    "collapsed": false
   },
   "outputs": [],
   "source": [
    "#train the model\n",
    "train_numer_vec = df_to_vec_2(adjusted_train_num)\n",
    "gbdt_model = train_gbdt_model(train_numer_vec)"
   ]
  },
  {
   "cell_type": "code",
   "execution_count": 7,
   "metadata": {
    "collapsed": false,
    "scrolled": true
   },
   "outputs": [
    {
     "name": "stdout",
     "output_type": "stream",
     "text": [
      "[LabeledPoint(0.0, [4.0,0.03,-0.034,-0.197,-0.179,0.118,0.116,-0.015,-0.032,0.02,0.083,-0.273,-0.273,-0.271,0.167,-0.213,-0.023,-0.192,-0.088,0.001,0.0,0.01,-0.223,-0.03,nan,nan,nan,nan,nan,nan,nan,nan,nan,-0.001,-0.004,nan,nan,nan,nan,nan,-0.164,-0.077,0.06,-0.157,0.0,0.001,nan,nan,nan,nan,nan,nan,nan,nan,nan,nan,nan,nan,nan,nan,nan,nan,nan,nan,nan,nan,nan,nan,nan,nan,0.018,-0.136,-0.013,0.106,-0.112,-0.131,-0.021,-0.097,0.26,0.012,-0.115,0.113,nan,nan,nan,nan,nan,nan,nan,nan,nan,nan,nan,nan,nan,nan,nan,nan,nan,nan,nan,nan,nan,nan,nan,nan,nan,nan,nan,nan,nan,nan,nan,nan,nan,nan,nan,nan,nan,nan,nan,nan,nan,nan,nan,nan,nan,nan,nan,nan,nan,nan,nan,nan,nan,nan,nan,nan,nan,nan,nan,nan,nan,nan,nan,nan,nan,nan,nan,nan,nan,nan,nan,nan,nan,nan,nan,nan,nan,nan,nan,nan,nan,nan,nan,nan,nan,nan,nan,nan,nan,nan,nan,nan,nan,nan,nan,nan,nan,nan,nan,nan,nan,nan,nan,nan,nan,nan,nan,nan,nan,nan,nan,nan,nan,nan,nan,nan,nan,nan,nan,nan,nan,nan,nan,nan,nan,nan,nan,nan,nan,nan,nan,nan,nan,nan,nan,nan,nan,nan,nan,nan,nan,nan,nan,nan,nan,nan,nan,nan,nan,nan,nan,nan,nan,nan,nan,nan,nan,nan,nan,nan,nan,nan,nan,nan,nan,nan,nan,nan,nan,nan,nan,nan,nan,nan,nan,nan,nan,nan,nan,nan,nan,nan,nan,nan,nan,nan,nan,nan,nan,nan,nan,nan,nan,nan,nan,nan,nan,nan,nan,nan,nan,nan,nan,nan,nan,nan,nan,nan,nan,nan,nan,nan,nan,nan,nan,nan,nan,nan,nan,nan,nan,nan,nan,nan,nan,nan,nan,nan,nan,nan,nan,nan,nan,nan,nan,nan,nan,nan,nan,nan,nan,nan,nan,nan,nan,nan,nan,nan,nan,nan,nan,nan,nan,nan,nan,nan,nan,nan,nan,nan,nan,nan,nan,nan,nan,nan,nan,nan,nan,nan,nan,nan,nan,nan,nan,nan,nan,nan,nan,nan,nan,nan,nan,nan,nan,nan,nan,nan,nan,nan,nan,nan,nan,nan,nan,nan,nan,nan,nan,nan,nan,nan,nan,nan,nan,nan,nan,nan,nan,nan,nan,nan,nan,nan,nan,nan,nan,nan,nan,nan,nan,nan,nan,nan,nan,nan,nan,nan,nan,nan,nan,nan,nan,nan,nan,nan,nan,nan,nan,nan,nan,nan,nan,nan,nan,nan,nan,nan,nan,nan,nan,nan,nan,nan,nan,nan,nan,nan,nan,nan,nan,nan,nan,nan,nan,nan,nan,nan,nan,nan,nan,nan,nan,nan,nan,nan,nan,nan,nan,nan,nan,nan,nan,nan,nan,nan,nan,nan,nan,nan,nan,nan,nan,nan,nan,nan,nan,nan,nan,nan,nan,nan,nan,nan,nan,nan,nan,nan,nan,nan,nan,nan,nan,nan,nan,nan,nan,nan,nan,nan,nan,nan,nan,nan,nan,nan,nan,nan,nan,nan,nan,nan,nan,nan,nan,nan,nan,nan,nan,nan,nan,nan,nan,nan,nan,nan,nan,nan,nan,nan,nan,nan,nan,nan,nan,nan,nan,nan,nan,nan,nan,nan,nan,nan,nan,nan,nan,nan,nan,nan,nan,nan,nan,nan,nan,nan,nan,nan,nan,nan,nan,nan,nan,nan,nan,nan,nan,nan,nan,nan,nan,nan,nan,nan,nan,nan,nan,nan,nan,nan,nan,nan,nan,nan,nan,nan,nan,nan,nan,nan,nan,nan,nan,nan,nan,nan,nan,nan,nan,nan,nan,nan,nan,nan,nan,nan,nan,nan,nan,nan,nan,nan,nan,nan,nan,nan,nan,nan,nan,nan,nan,nan,nan,nan,nan,nan,nan,nan,nan,nan,nan,nan,nan,nan,nan,nan,nan,nan,nan,nan,nan,nan,nan,nan,nan,nan,nan,nan,nan,nan,nan,nan,nan,nan,nan,nan,nan,nan,nan,nan,nan,nan,nan,nan,nan,nan,nan,nan,nan,nan,nan,nan,nan,nan,nan,nan,nan,nan,nan,nan,nan,nan,nan,nan,nan,nan,nan,nan,nan,nan,nan,nan,nan,nan,nan,nan,nan,nan,nan,nan,nan,nan,nan,nan,nan,nan,nan,nan,nan,nan,nan,nan,nan,nan,nan,nan,nan,nan,nan,nan,nan,nan,0.03,-0.047,-0.119,0.04,-0.067,-0.058,0.044,0.044,0.01,0.041,-0.072,-0.024,-0.026,-0.257,0.25,0.218,0.04,0.044,0.09,0.036,-0.117,0.054,-0.119,0.044,-0.024,0.218,-0.072,0.25,-0.702,-0.702,-0.047,-0.058,0.065,-0.069,-0.027,-0.058,0.03,-0.067,0.041,-0.257,0.01,-0.026,-0.24,0.52,-0.24,0.52,0.015,0.015,0.067,0.0,0.0,0.0,0.0,0.003,0.003,-0.003,0.0,-0.137,0.086,-0.006,-0.003,0.159,-0.137,-0.02,-0.006,-0.01,0.159,nan,nan,nan,nan,nan,nan,nan,nan,nan,nan,nan,nan,nan,nan,nan,nan,nan,nan,nan,nan,nan,nan,nan,nan,nan,nan,nan,nan,nan,nan,nan,nan,0.0,0.0,0.0,0.0,-0.177,-0.16,0.091,0.275,0.01,-0.007,0.038,0.013,0.019,0.013,-0.009,0.012,-0.01,-0.06,0.013,-0.027,0.013,0.005,0.002,0.0,-0.049,0.001,nan,-0.119,-0.102,-0.048,-0.119,-0.119,0.026,0.0,0.0,0.0,0.0,0.0,0.0,0.0,0.0,0.0,-0.009,-0.082,-0.022,0.0,0.0,0.0,0.0,nan,nan,nan,nan,nan,nan,nan,nan,0.0,0.0,0.0,0.0,nan,nan,nan,nan,nan,nan,nan,nan,nan,nan,nan,nan,nan,nan,nan,nan,nan,nan,nan,nan,nan,nan,nan,nan,nan,nan,nan,nan,nan,nan,nan,nan,nan,nan,nan,nan,nan,nan,nan,nan,nan,nan,nan,nan,nan,nan,nan,nan,nan,nan,nan,nan,nan,nan,nan,nan,nan,nan,nan,nan,nan,nan,nan,nan,nan,nan,nan,nan,nan,nan,nan,nan,nan,nan,nan,nan,nan,nan,nan,nan,nan,nan,nan,nan,nan]), LabeledPoint(0.0, [6.0,nan,nan,nan,nan,nan,nan,nan,nan,nan,nan,nan,nan,nan,nan,nan,nan,nan,nan,nan,nan,nan,nan,nan,nan,nan,nan,nan,nan,nan,nan,nan,nan,nan,nan,nan,nan,nan,nan,nan,nan,nan,nan,nan,nan,nan,nan,nan,nan,nan,nan,nan,nan,nan,nan,nan,nan,nan,nan,nan,nan,nan,nan,nan,nan,nan,nan,nan,nan,nan,nan,nan,nan,nan,nan,nan,nan,nan,nan,nan,nan,nan,0.096,0.076,-0.065,-0.136,0.169,0.231,-0.014,-0.072,-0.039,-0.029,-0.039,-0.039,0.019,-0.103,0.033,-0.088,0.066,-0.324,-0.005,0.0,0.043,-0.082,0.064,nan,nan,nan,nan,nan,nan,nan,nan,nan,0.04,0.032,nan,nan,-0.01,0.315,-0.046,nan,nan,nan,-0.197,0.0,0.0,-0.018,0.049,-0.022,-0.003,0.013,0.005,0.001,0.053,0.009,0.008,-0.134,-0.01,0.009,-0.001,nan,nan,nan,nan,nan,nan,nan,nan,nan,nan,nan,nan,nan,nan,nan,nan,nan,nan,nan,nan,nan,nan,nan,nan,nan,nan,nan,nan,nan,nan,nan,nan,nan,nan,nan,nan,nan,nan,nan,nan,nan,nan,nan,nan,nan,nan,nan,nan,nan,nan,nan,nan,nan,nan,nan,nan,nan,nan,nan,nan,nan,nan,nan,nan,nan,nan,nan,nan,nan,nan,nan,nan,nan,nan,nan,nan,nan,nan,nan,nan,nan,nan,nan,nan,nan,nan,nan,nan,nan,nan,nan,nan,nan,nan,nan,nan,nan,nan,nan,nan,nan,nan,nan,nan,nan,nan,nan,nan,nan,nan,nan,nan,nan,nan,nan,nan,nan,nan,nan,nan,nan,nan,nan,nan,nan,nan,nan,nan,nan,nan,nan,nan,nan,nan,nan,nan,nan,nan,nan,nan,nan,nan,nan,nan,nan,nan,nan,nan,nan,nan,nan,nan,nan,nan,nan,nan,nan,nan,nan,nan,nan,nan,nan,nan,nan,nan,nan,nan,nan,nan,nan,nan,nan,nan,nan,nan,nan,nan,nan,nan,nan,nan,nan,nan,nan,nan,nan,nan,nan,nan,nan,nan,nan,nan,nan,nan,nan,nan,nan,nan,nan,nan,nan,nan,nan,nan,nan,nan,nan,nan,nan,nan,nan,nan,nan,nan,nan,nan,nan,nan,nan,nan,nan,nan,nan,nan,nan,nan,nan,nan,nan,nan,nan,nan,nan,nan,nan,nan,nan,nan,nan,nan,nan,nan,nan,nan,nan,nan,nan,nan,nan,nan,nan,nan,nan,nan,nan,nan,nan,nan,nan,nan,nan,nan,nan,nan,nan,nan,nan,nan,nan,nan,nan,nan,nan,nan,nan,nan,nan,nan,nan,nan,nan,nan,nan,nan,nan,nan,nan,nan,nan,nan,nan,nan,nan,nan,nan,nan,nan,nan,nan,nan,nan,nan,nan,nan,nan,nan,nan,nan,nan,nan,nan,nan,nan,nan,nan,nan,nan,nan,nan,nan,nan,nan,nan,nan,nan,nan,nan,nan,nan,nan,nan,nan,nan,nan,nan,nan,nan,nan,nan,nan,nan,nan,nan,nan,nan,nan,nan,nan,nan,nan,nan,nan,nan,nan,nan,nan,nan,nan,nan,nan,nan,nan,nan,nan,nan,nan,nan,nan,nan,nan,nan,nan,nan,nan,nan,nan,nan,nan,nan,nan,nan,nan,nan,nan,nan,nan,nan,nan,nan,nan,nan,nan,nan,nan,nan,nan,nan,nan,nan,nan,nan,nan,nan,nan,nan,nan,nan,nan,nan,nan,nan,nan,nan,nan,nan,nan,nan,nan,nan,nan,nan,nan,nan,nan,nan,nan,nan,nan,nan,nan,nan,nan,nan,nan,nan,nan,nan,nan,nan,nan,nan,nan,nan,nan,nan,nan,nan,nan,nan,nan,nan,nan,nan,nan,nan,nan,nan,nan,nan,nan,nan,nan,nan,nan,nan,nan,nan,nan,nan,nan,nan,nan,nan,nan,nan,nan,nan,nan,nan,nan,nan,nan,nan,nan,nan,nan,nan,nan,nan,nan,nan,nan,nan,nan,nan,nan,nan,nan,nan,nan,nan,nan,nan,nan,nan,nan,nan,nan,nan,nan,nan,nan,nan,nan,nan,nan,nan,nan,nan,nan,nan,nan,nan,nan,nan,nan,nan,nan,nan,nan,nan,nan,nan,nan,nan,nan,nan,nan,nan,nan,nan,nan,nan,nan,nan,nan,nan,nan,nan,nan,nan,nan,nan,nan,nan,nan,nan,nan,nan,nan,nan,nan,nan,nan,nan,nan,nan,nan,nan,nan,nan,nan,nan,nan,nan,nan,nan,nan,nan,nan,nan,-0.084,-0.03,-0.127,-0.174,0.145,0.152,-0.006,-0.059,-0.064,-0.031,0.023,-0.01,0.113,0.238,-0.05,0.218,-0.174,-0.059,0.085,-0.015,-0.244,-0.05,-0.127,-0.006,-0.01,0.218,0.023,-0.05,0.082,0.082,-0.03,0.152,0.033,0.146,-0.022,0.152,-0.084,0.145,-0.031,0.238,-0.064,0.113,0.017,-0.48,0.017,-0.48,-0.019,-0.02,-0.071,0.0,0.0,0.0,0.0,-0.008,-0.008,-0.003,0.002,0.025,-0.046,-0.004,-0.003,0.039,0.025,0.03,-0.004,0.178,0.039,-0.003,0.016,0.033,0.255,-0.003,0.055,0.0,0.0,-0.002,0.06,0.0,0.0,-0.002,0.068,-0.008,0.049,-0.009,0.049,0.0,0.0,0.022,0.173,0.021,0.173,0.03,0.183,0.0,0.0,0.201,0.008,0.0,0.0,0.0,0.0,0.0,0.0,-0.055,-0.143,-0.079,-0.004,0.012,-0.024,-0.036,0.013,-0.017,0.013,0.011,0.014,0.001,-0.041,0.013,-0.019,0.013,-0.049,nan,nan,nan,nan,nan,-0.029,-0.026,-0.21,-0.029,-0.029,-0.047,0.0,0.0,0.0,0.0,0.0,0.0,0.0,0.0,0.0,-0.011,0.03,-0.028,0.0,0.0,0.0,0.0,nan,nan,nan,nan,nan,nan,nan,nan,0.0,0.0,0.0,0.0,nan,nan,nan,nan,nan,nan,nan,nan,nan,nan,nan,nan,nan,nan,nan,nan,nan,nan,nan,nan,nan,nan,nan,nan,nan,nan,nan,nan,nan,nan,nan,nan,nan,nan,nan,nan,nan,nan,nan,nan,nan,nan,nan,nan,nan,nan,nan,nan,nan,nan,nan,nan,nan,nan,nan,nan,nan,nan,nan,nan,nan,nan,nan,nan,nan,nan,nan,nan,nan,nan,nan,nan,nan,nan,nan,nan,nan,nan,nan,nan,nan,nan,nan,nan,nan]), LabeledPoint(0.0, [7.0,0.088,0.086,0.003,-0.052,0.161,0.025,-0.015,-0.072,-0.225,-0.147,0.25,0.25,0.057,-0.079,-0.013,0.011,0.008,-0.06,-0.005,0.0,0.01,-0.223,-0.077,nan,nan,nan,nan,nan,nan,nan,nan,nan,nan,nan,-0.073,0.138,-0.336,0.506,-0.13,nan,nan,nan,-0.157,0.0,0.001,nan,nan,nan,nan,nan,nan,nan,nan,nan,nan,nan,nan,-0.002,-0.047,0.018,0.0,-0.001,0.001,-0.009,-0.017,0.105,-0.001,0.0,0.0,nan,nan,nan,nan,nan,nan,nan,nan,nan,nan,nan,nan,nan,nan,nan,nan,nan,nan,nan,nan,nan,nan,nan,nan,nan,nan,nan,nan,nan,nan,nan,nan,nan,nan,nan,nan,nan,nan,nan,nan,nan,nan,nan,nan,nan,nan,nan,nan,nan,nan,nan,nan,nan,nan,nan,nan,nan,nan,nan,nan,nan,nan,nan,nan,nan,nan,nan,nan,nan,nan,nan,nan,nan,nan,nan,nan,nan,nan,nan,nan,nan,nan,nan,nan,nan,nan,nan,nan,nan,nan,nan,nan,nan,nan,nan,nan,nan,nan,nan,nan,nan,nan,nan,nan,nan,nan,nan,nan,nan,nan,nan,nan,nan,nan,nan,nan,nan,nan,nan,nan,nan,nan,nan,nan,nan,nan,nan,nan,nan,nan,nan,nan,nan,nan,nan,nan,nan,nan,nan,nan,nan,nan,nan,nan,nan,nan,nan,nan,nan,nan,nan,nan,nan,nan,nan,nan,nan,nan,nan,nan,nan,nan,nan,nan,nan,nan,nan,nan,nan,nan,nan,nan,nan,nan,nan,nan,nan,nan,nan,nan,nan,nan,nan,nan,nan,nan,nan,nan,nan,nan,nan,nan,nan,nan,nan,nan,nan,nan,nan,nan,nan,nan,nan,nan,nan,nan,nan,nan,nan,nan,nan,nan,nan,nan,nan,nan,nan,nan,nan,nan,nan,nan,nan,nan,nan,nan,nan,nan,nan,nan,nan,nan,nan,nan,nan,nan,nan,nan,nan,nan,nan,nan,nan,nan,nan,nan,nan,nan,nan,nan,nan,nan,nan,nan,nan,nan,nan,nan,nan,nan,nan,nan,nan,nan,nan,nan,nan,nan,nan,nan,nan,nan,nan,nan,nan,nan,nan,nan,nan,nan,nan,nan,nan,nan,nan,nan,nan,nan,nan,nan,nan,nan,nan,nan,nan,nan,nan,nan,nan,nan,nan,nan,nan,nan,nan,nan,nan,nan,nan,nan,nan,nan,nan,nan,nan,nan,nan,nan,nan,nan,nan,nan,nan,nan,nan,nan,nan,nan,nan,nan,nan,nan,nan,nan,nan,nan,nan,nan,nan,nan,nan,nan,nan,nan,nan,nan,nan,nan,nan,nan,nan,nan,nan,nan,nan,nan,nan,nan,nan,nan,nan,nan,nan,nan,nan,nan,nan,nan,nan,nan,nan,nan,nan,nan,nan,nan,nan,nan,nan,nan,nan,nan,nan,nan,nan,nan,nan,nan,nan,nan,nan,nan,nan,nan,nan,nan,nan,nan,nan,nan,nan,nan,nan,nan,nan,nan,nan,nan,nan,nan,nan,nan,nan,nan,nan,nan,nan,nan,nan,nan,nan,nan,nan,nan,nan,nan,nan,nan,nan,nan,nan,nan,nan,nan,nan,nan,nan,nan,nan,nan,nan,nan,nan,nan,nan,nan,nan,nan,nan,nan,nan,nan,nan,nan,nan,nan,nan,nan,nan,nan,nan,nan,nan,nan,nan,nan,nan,nan,nan,nan,nan,nan,nan,nan,nan,nan,nan,nan,nan,nan,nan,nan,nan,nan,nan,nan,nan,nan,nan,nan,nan,nan,nan,nan,nan,nan,nan,nan,nan,nan,nan,nan,nan,nan,nan,nan,nan,nan,nan,nan,nan,nan,nan,nan,nan,nan,nan,nan,nan,nan,nan,nan,nan,nan,nan,nan,nan,nan,nan,nan,nan,nan,nan,nan,nan,nan,nan,nan,nan,nan,nan,nan,nan,nan,nan,nan,nan,nan,nan,nan,nan,nan,nan,nan,nan,nan,nan,nan,nan,nan,nan,nan,nan,nan,nan,nan,nan,nan,nan,nan,nan,nan,nan,nan,nan,nan,nan,nan,nan,nan,nan,nan,nan,nan,nan,nan,nan,nan,nan,nan,nan,nan,nan,nan,nan,nan,nan,nan,nan,nan,nan,nan,nan,nan,nan,nan,nan,nan,nan,nan,nan,nan,nan,nan,nan,nan,nan,nan,nan,nan,nan,nan,nan,nan,nan,nan,nan,nan,nan,nan,nan,nan,nan,nan,nan,nan,nan,nan,nan,nan,nan,nan,nan,nan,nan,nan,nan,nan,nan,nan,nan,nan,nan,nan,0.049,-0.03,-0.099,0.07,0.014,0.004,0.006,0.064,0.04,-0.005,-0.129,-0.138,0.101,0.238,-0.017,-0.115,0.07,0.064,-0.223,0.023,0.223,0.047,-0.099,0.006,-0.138,-0.115,-0.129,-0.017,0.104,0.104,-0.03,0.004,0.071,0.014,-0.022,0.004,0.049,0.014,-0.005,0.238,0.04,0.101,0.017,-0.48,0.017,-0.48,-0.019,-0.009,-0.027,0.0,0.0,0.0,0.0,-0.009,-0.009,0.009,-0.003,0.025,0.007,0.001,0.009,-0.221,0.025,-0.013,0.001,-0.047,-0.221,0.009,0.016,-0.147,-0.078,0.001,-0.205,0.0,0.0,-0.016,-0.056,0.0,0.0,0.004,-0.01,-0.002,-0.041,-0.003,-0.041,0.0,0.0,0.012,-0.042,0.011,-0.042,-0.013,-0.042,0.0,0.0,0.054,0.007,0.0,0.0,0.0,0.0,0.0,0.0,-0.155,-0.044,0.059,0.063,0.006,-0.026,0.119,0.013,0.055,0.013,0.081,0.017,0.134,0.115,0.013,0.051,0.013,-0.069,nan,nan,nan,nan,nan,0.199,0.191,0.236,0.199,0.199,0.108,0.0,0.0,0.0,0.0,0.0,0.0,0.0,0.0,0.0,-0.036,0.03,-0.091,0.0,0.0,0.0,0.0,nan,nan,nan,nan,nan,nan,nan,nan,0.0,0.0,0.0,0.0,nan,nan,nan,nan,nan,nan,nan,nan,nan,nan,nan,nan,nan,nan,nan,nan,nan,nan,nan,nan,nan,nan,nan,nan,nan,nan,nan,nan,nan,nan,nan,nan,nan,nan,nan,nan,nan,nan,nan,nan,nan,nan,nan,nan,nan,nan,nan,nan,nan,nan,nan,nan,nan,nan,nan,nan,nan,nan,nan,nan,nan,nan,nan,nan,nan,nan,nan,nan,nan,nan,nan,nan,nan,nan,nan,nan,nan,nan,nan,nan,nan,nan,nan,nan,nan])]\n"
     ]
    }
   ],
   "source": [
    "train_numer_vec = df_to_vec_2(train_numer_df)\n",
    "print train_numer_vec.take(3)\n",
    "#first_3 = train_numer_df.take(3)\n",
    "#for line in first_3:\n",
    "#    LabeledPoint(line[-1],line[0:-1])"
   ]
  },
  {
   "cell_type": "code",
   "execution_count": 19,
   "metadata": {
    "collapsed": true
   },
   "outputs": [],
   "source": [
    "#train_numer_vec = df_to_vec(train_numer_df, [\"Id\"])\n",
    "#train_numer_vec.corr(method=\"pearson\")\n",
    "ignore_list = [\"Response\"]\n",
    "assembler = VectorAssembler(\n",
    "        inputCols=[x for x in train_numer_df.columns if x not in ignore_list],\n",
    "        outputCol='features')\n",
    "#print type(train_numer_vec)\n",
    "train_numer_vec = assembler.transform(train_numer_df)"
   ]
  },
  {
   "cell_type": "code",
   "execution_count": null,
   "metadata": {
    "collapsed": true
   },
   "outputs": [],
   "source": []
  }
 ],
 "metadata": {
  "kernelspec": {
   "display_name": "Python 2",
   "language": "python",
   "name": "python2"
  },
  "language_info": {
   "codemirror_mode": {
    "name": "ipython",
    "version": 2
   },
   "file_extension": ".py",
   "mimetype": "text/x-python",
   "name": "python",
   "nbconvert_exporter": "python",
   "pygments_lexer": "ipython2",
   "version": "2.7.12"
  }
 },
 "nbformat": 4,
 "nbformat_minor": 1
}
